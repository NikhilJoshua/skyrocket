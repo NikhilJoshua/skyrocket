{
 "cells": [
  {
   "cell_type": "markdown",
   "metadata": {
    "id": "xnjpK2quAbfs"
   },
   "source": [
    "# Import the Libraries"
   ]
  },
  {
   "cell_type": "code",
   "execution_count": 2,
   "metadata": {
    "executionInfo": {
     "elapsed": 361,
     "status": "ok",
     "timestamp": 1630146913944,
     "user": {
      "displayName": "Nikhil Joshua",
      "photoUrl": "https://lh3.googleusercontent.com/a-/AOh14GgQaeA2EkU9v42cNRcq5ZB6WDRJkIjfKqwSmfGDYQ=s64",
      "userId": "10474522626902210468"
     },
     "user_tz": -330
    },
    "id": "UVsFkJHv_378"
   },
   "outputs": [],
   "source": [
    "import pandas as pd\n",
    "import matplotlib.pyplot as plt"
   ]
  },
  {
   "cell_type": "markdown",
   "metadata": {
    "id": "-B2aVj-3Bplz"
   },
   "source": [
    "# Import Dataset"
   ]
  },
  {
   "cell_type": "code",
   "execution_count": 7,
   "metadata": {
    "colab": {
     "base_uri": "https://localhost:8080/"
    },
    "executionInfo": {
     "elapsed": 1476,
     "status": "ok",
     "timestamp": 1630149088452,
     "user": {
      "displayName": "Nikhil Joshua",
      "photoUrl": "https://lh3.googleusercontent.com/a-/AOh14GgQaeA2EkU9v42cNRcq5ZB6WDRJkIjfKqwSmfGDYQ=s64",
      "userId": "10474522626902210468"
     },
     "user_tz": -330
    },
    "id": "wJftthC3EJAJ",
    "outputId": "237879d7-ffbb-4646-d53b-f0bfc713a830"
   },
   "outputs": [
    {
     "name": "stdout",
     "output_type": "stream",
     "text": [
      "['OnePlus Nord 5G (Gray Onyx, 8GB RAM, 128GB Storage)' 'OnePlus'\n",
      " 'SHYAM SINGH' 'Its a good set' '5.0 out of 5 stars'\n",
      " \"\\n  I always want a oneplus mobile now I have one it's a good mobile\\n\"\n",
      " '39 people found this helpful' 3 ' India '\n",
      " Timestamp('2020-08-02 00:00:00')\n",
      " 'https://www.amazon.in/product-reviews/B08695ZSP6/ref=acr_dp_hist_5?ie=UTF8&filterByStar=five_star&reviewerType=all_reviews'\n",
      " Timestamp('2020-10-18 11:23:47') '5a8452ad-43a9-51dd-b7da-1dfdce70e442'\n",
      " 'Verified Purchase' 'na' 'na' 'na' 'electronics' 'mobiles'\n",
      " list(['https://images-na.ssl-images-amazon.com/images/I/71A1unAEKoL._SY88.jpg', 'https://images-na.ssl-images-amazon.com/images/I/71IWIUXAZZL._SY88.jpg', 'https://images-na.ssl-images-amazon.com/images/I/71puZj8JuBL._SY88.jpg'])]\n"
     ]
    }
   ],
   "source": [
    "dataset = pd.read_json('amazon_one_plus_reviews.json')\n",
    "X = dataset.iloc[:9469, :].values\n",
    "y = dataset.iloc[:, :].values\n",
    "\n",
    "print(X[9])"
   ]
  }
 ],
 "metadata": {
  "colab": {
   "authorship_tag": "ABX9TyNgXcxQGmEfT77SAtGE8HKU",
   "name": "main.ipynb",
   "provenance": []
  },
  "kernelspec": {
   "display_name": "Python 3",
   "language": "python",
   "name": "python3"
  },
  "language_info": {
   "codemirror_mode": {
    "name": "ipython",
    "version": 3
   },
   "file_extension": ".py",
   "mimetype": "text/x-python",
   "name": "python",
   "nbconvert_exporter": "python",
   "pygments_lexer": "ipython3",
   "version": "3.8.5"
  }
 },
 "nbformat": 4,
 "nbformat_minor": 1
}
